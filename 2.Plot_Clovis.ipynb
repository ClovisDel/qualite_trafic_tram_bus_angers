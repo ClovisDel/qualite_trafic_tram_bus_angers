{
 "cells": [],
 "metadata": {
  "kernelspec": {
   "display_name": "base",
   "language": "python",
   "name": "python3"
  },
  "language_info": {
   "codemirror_mode": {
    "name": "ipython",
    "version": 3
   },
   "file_extension": ".py",
   "mimetype": "text/x-python",
   "name": "python",
   "nbconvert_exporter": "python",
   "pygments_lexer": "ipython3",
   "version": "3.9.7"
  },
  "orig_nbformat": 4,
  "vscode": {
   "interpreter": {
    "hash": "6c82e4ef8f8188b96c61e38a6d616e25501428783ccaa177295abba884367e3c"
   }
  }
 },
 "nbformat": 4,
 "nbformat_minor": 2
}
