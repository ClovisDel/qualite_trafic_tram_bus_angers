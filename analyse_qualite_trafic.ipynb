{
 "cells": [
  {
   "attachments": {},
   "cell_type": "markdown",
   "metadata": {},
   "source": [
    "# Nettoyage et exploration des données en lien avec les bus et tram d'Angers "
   ]
  },
  {
   "attachments": {},
   "cell_type": "markdown",
   "metadata": {},
   "source": [
    "## 1. Import des packages principaux"
   ]
  },
  {
   "cell_type": "code",
   "execution_count": null,
   "metadata": {},
   "outputs": [],
   "source": [
    "import pandas as pd\n",
    "from pandas.io.json import json_normalize\n",
    "import numpy as np\n",
    "import matplotlib.pyplot as plt\n",
    "import seaborn as sns\n",
    "\n",
    "import plotly.express as px\n",
    "from plotly.subplots import make_subplots\n",
    "import plotly.graph_objects as go\n",
    "\n",
    "import warnings\n",
    "\n",
    "import requests \n",
    "import json\n",
    "\n",
    "warnings.filterwarnings('ignore')\n",
    "%matplotlib inline\n",
    "\n",
    "import dtale"
   ]
  },
  {
   "attachments": {},
   "cell_type": "markdown",
   "metadata": {},
   "source": [
    "### 2.1 Import des données à partir de l'api de la ville d'Angers"
   ]
  },
  {
   "cell_type": "code",
   "execution_count": null,
   "metadata": {},
   "outputs": [],
   "source": [
    "r = requests.get(\"https://data.angers.fr/api/records/1.0/search/\",\n",
    "    params = {    \n",
    "        \"dataset\":\"bus-tram-position-tr\",\n",
    "        \"rows\":-1,    \n",
    "    },\n",
    ")\n",
    "\n",
    "r.raise_for_status()\n",
    "    \n",
    "d = r.json()\n",
    "#d"
   ]
  },
  {
   "cell_type": "code",
   "execution_count": null,
   "metadata": {},
   "outputs": [],
   "source": [
    "df_api = pd.json_normalize(d['records'])"
   ]
  },
  {
   "attachments": {},
   "cell_type": "markdown",
   "metadata": {},
   "source": [
    "### 2.2 Import des données à partir de la base consolidées des différents .json"
   ]
  },
  {
   "cell_type": "code",
   "execution_count": null,
   "metadata": {},
   "outputs": [],
   "source": [
    "df = pd.read_csv(\"angers_bus_tram_json_merge.csv\", sep=\";\", encoding=\"utf-8\")\n",
    "df.sample(5)"
   ]
  },
  {
   "attachments": {},
   "cell_type": "markdown",
   "metadata": {},
   "source": [
    "## 3. Nettoyage des données "
   ]
  },
  {
   "attachments": {},
   "cell_type": "markdown",
   "metadata": {},
   "source": [
    "On supprime les colonnes inutiles et on transforme les types de données."
   ]
  },
  {
   "cell_type": "code",
   "execution_count": null,
   "metadata": {},
   "outputs": [],
   "source": [
    "df = (df\n",
    "        .drop(columns=[\"Unnamed: 0\", \"datasetid\", \"recordid\", \"geometry.type\"], errors='ignore')\n",
    "        .astype({\"record_timestamp\": \"datetime64\", \"fields.ts_maj\": \"datetime64\", \"fields.coordonnees\" : \"string\"})\n",
    "        .assign(ecart_horodatage = lambda x: x[\"record_timestamp\"] - x[\"fields.ts_maj\"])\n",
    ")\n"
   ]
  },
  {
   "attachments": {},
   "cell_type": "markdown",
   "metadata": {},
   "source": [
    "On renomme les colonnes pour une meilleure lecture et utilisation des métadonnés."
   ]
  },
  {
   "cell_type": "code",
   "execution_count": null,
   "metadata": {},
   "outputs": [],
   "source": [
    "nomsColonnes = ['horodatage', \n",
    "                'identifiant_SAE_de_desserte',\n",
    "                'identifiant_du_vehicule',\n",
    "                'numero_Timeo_de_l_arret',\n",
    "                'etat_SAE_du_vehicule', \n",
    "                'numero_de_parc_du_vehicule',\n",
    "                'nom_de_la_ligne',\n",
    "                'Heure_estimee_de_passage_a_L_arret', \n",
    "                'modele_du_vehicule',\n",
    "                'identifiant_SAE_de_ligne',\n",
    "                'ecart_horaire_en_secondes',\n",
    "                'destination',\n",
    "                'nom_de l_arret', \n",
    "                'mne_de_l_arret',\n",
    "                'mnemo_de_la_ligne',\n",
    "                 'coordonnees_GPS_WG84', \n",
    "                'identifiant_SAE_de_l_arret',\n",
    "                'cap_du_vehicule_en_degres', \n",
    "                'identifiant_SAE_du_parcours',\n",
    "                'service_voiture', \n",
    "                'coordonnees_GPS_X',\n",
    "                'coordonnees_GPS_Y', \n",
    "                'horodatage_maj',\n",
    "                'cordonnees_bus_geometrie', \n",
    "                'ecart_horodatage']\n",
    "\n",
    "\n",
    "df.columns = nomsColonnes"
   ]
  },
  {
   "attachments": {},
   "cell_type": "markdown",
   "metadata": {},
   "source": [
    "On supprime les doublons qui vont fausser nos analyses. "
   ]
  },
  {
   "cell_type": "code",
   "execution_count": null,
   "metadata": {},
   "outputs": [],
   "source": [
    "# index des lignes dupliquées (on drop les unhashable)\n",
    "duplicateRowsDF = df[df.drop(columns=[\"cordonnees_bus_geometrie\", \"coordonnees_GPS_WG84\"]).duplicated()]\n",
    "#display(duplicateRowsDF.sort_values(by=\"horodatage\").head(10))\n",
    "\n",
    "# drop des lignes dupliquées par index\n",
    "df = df.drop(duplicateRowsDF.index, axis=0)\n",
    "df.shape\n"
   ]
  },
  {
   "attachments": {},
   "cell_type": "markdown",
   "metadata": {},
   "source": [
    "On regarde le nombres de NA, ici 14 770.\n",
    "\n",
    "Actuellement, la décision est de les supprimer."
   ]
  },
  {
   "cell_type": "code",
   "execution_count": null,
   "metadata": {},
   "outputs": [],
   "source": [
    "print(\"Nbr NA avant suppression : \", df.isna().sum().sum())\n",
    "\n",
    "df = df.dropna()\n",
    "\n",
    "print(\"Nbr NA avant suppression :\", df.isna().sum().sum())"
   ]
  },
  {
   "attachments": {},
   "cell_type": "markdown",
   "metadata": {},
   "source": [
    "On va s'occupe des données abérantes (outsiders). \n",
    "\n",
    "On utilise la méthode de winsorizing sur les données : \n",
    "- inférieur à q1 - 1.5 * irq,\n",
    "- supérieur à q3 + 1.5 * irq. \n",
    "\n"
   ]
  },
  {
   "cell_type": "code",
   "execution_count": null,
   "metadata": {},
   "outputs": [],
   "source": [
    "from scipy.stats.mstats import winsorize\n",
    "\n",
    "fig = px.box(df, y=\"ecart_horaire_en_secondes\")\n",
    "fig.show()\n",
    "\n",
    "df[\"ecart_horaire_en_secondes\"] = winsorize(df[\"ecart_horaire_en_secondes\"], limits=[0.05, 0.05])\n",
    "\n",
    "fig = px.box(df, y=\"ecart_horaire_en_secondes\")\n",
    "fig.show()"
   ]
  },
  {
   "attachments": {},
   "cell_type": "markdown",
   "metadata": {},
   "source": [
    "On développe la nootion des coordonnées GPS, l'idée étant de séparer la latitude et la longitude. "
   ]
  },
  {
   "cell_type": "code",
   "execution_count": null,
   "metadata": {},
   "outputs": [],
   "source": [
    "df[['latitude', 'longitude']] = df['coordonnees_GPS_WG84'].str.split(',', expand=True)\n",
    "\n",
    "cols = ['latitude', 'longitude']\n",
    "for col in cols :\n",
    "    df[col] = df[col].map(lambda x: str(x).lstrip('[').rstrip(']')).astype(float)\n"
   ]
  },
  {
   "attachments": {},
   "cell_type": "markdown",
   "metadata": {},
   "source": [
    "De plus, on divise la colonne horodatage en plusieurs colonnes numériques qui vont être utile à l'affichage des analyses :\n",
    "On récupère :\n",
    "- l'année,\n",
    "- le mois,\n",
    "- le jour,\n",
    "- la date sur un nouveau format, \n",
    "- la date avec l'heure,\n",
    "- le jour de la semaine. "
   ]
  },
  {
   "cell_type": "code",
   "execution_count": null,
   "metadata": {},
   "outputs": [],
   "source": [
    "df[\"year\"] = df[\"horodatage\"].dt.year\n",
    "df[\"month\"] = df[\"horodatage\"].dt.month\n",
    "df[\"day\"] =  df[\"horodatage\"].dt.day\n",
    "df[\"hours\"] = df[\"horodatage\"].dt.hour\n",
    "df[\"date\"] = pd.to_datetime(df[[\"year\", \"month\", \"day\"]])\n",
    "df[\"date_heure\"] = pd.to_datetime(df[[\"year\", \"month\", \"day\", \"hours\"]])\n",
    "\n",
    "df[\"jour_semaine\"] = df[\"date\"].dt.day_name().map({\"Monday\": \"Lundi\", \"Tuesday\": \"Mardi\", \"Wednesday\": \"Mercredi\", \"Thursday\": \"Jeudi\", \"Friday\": \"Vendredi\", \"Saturday\": \"Samedi\", \"Sunday\": \"Dimanche\"})\n",
    "\n",
    "#df.sample(5)"
   ]
  },
  {
   "attachments": {},
   "cell_type": "markdown",
   "metadata": {},
   "source": [
    "On en arrive à un dataframe de la forme suivante, avec 25 colonnes et 724 202 observations. "
   ]
  },
  {
   "cell_type": "code",
   "execution_count": null,
   "metadata": {},
   "outputs": [],
   "source": [
    "print(df.shape)\n",
    "#dtale.show(df)"
   ]
  },
  {
   "attachments": {},
   "cell_type": "markdown",
   "metadata": {},
   "source": [
    "On affiche les informations de nos données. "
   ]
  },
  {
   "cell_type": "code",
   "execution_count": null,
   "metadata": {},
   "outputs": [],
   "source": [
    "df.info()"
   ]
  },
  {
   "attachments": {},
   "cell_type": "markdown",
   "metadata": {},
   "source": [
    "## 4 Analyse de nos données "
   ]
  },
  {
   "attachments": {},
   "cell_type": "markdown",
   "metadata": {},
   "source": [
    "### 4.1 Analyse générale "
   ]
  },
  {
   "cell_type": "code",
   "execution_count": null,
   "metadata": {},
   "outputs": [],
   "source": [
    "print(\"Premiere date : \", df[\"horodatage\"].min().strftime(\"%Y-%m-%d\"))\n",
    "print(\"Derniere date : \", df[\"horodatage\"].max().strftime(\"%Y-%m-%d\"))\n",
    "print(\"Nombre de jours étudiés : \", (df[\"horodatage\"].max() - df[\"horodatage\"].min()).days)\n",
    "print(\"Nombre de véhicules différents : \", df[\"identifiant_du_vehicule\"].nunique())\n",
    "print(\"Nombre de lignes différentes : \", df[\"nom_de_la_ligne\"].nunique())\n"
   ]
  },
  {
   "attachments": {},
   "cell_type": "markdown",
   "metadata": {},
   "source": [
    "### 4.2 Analyse des retard => écart horaire "
   ]
  },
  {
   "cell_type": "code",
   "execution_count": null,
   "metadata": {},
   "outputs": [],
   "source": [
    "# nombre de bus avec ecart_hoiraire_en_seconde > 0 \n",
    "tab_ecart = [len(df[df[\"ecart_horaire_en_secondes\"] > 0]), len(df[df[\"ecart_horaire_en_secondes\"] < 0]) , len(df[df[\"ecart_horaire_en_secondes\"] == 0])]\n",
    "tab_label = [\"Vehicule en retard\", \"Véhicule en avance\", \"Véhicule à l'heure\"]\n",
    "\n",
    "fig = go.Figure(data=[go.Pie(labels=tab_label, values=tab_ecart, pull = [0,0.2,0])])\n",
    "fig.show()\n"
   ]
  },
  {
   "cell_type": "code",
   "execution_count": null,
   "metadata": {},
   "outputs": [],
   "source": [
    "ecart_jour = df.groupby(['month'])['ecart_horaire_en_secondes'].count()\n",
    "\n",
    "#ecart_jour.plot(kind='bar',figsize=(12,7), color='magenta', alpha=0.5)$\n",
    "fig = px.bar(ecart_jour, \n",
    "            x=ecart_jour.index, \n",
    "            y='ecart_horaire_en_secondes', \n",
    "            title=\"Nombre de retard par mois en seconde\",\n",
    "            color='ecart_horaire_en_secondes')\n",
    "fig.show()"
   ]
  },
  {
   "cell_type": "code",
   "execution_count": null,
   "metadata": {},
   "outputs": [],
   "source": [
    "df_plot_ecart = df[['month', 'day', 'ecart_horaire_en_secondes']]\n",
    "df_plot_ecart = df_plot_ecart.groupby(['month', 'day']).sum().reset_index()\n",
    "#display(df_plot_ecart)\n",
    "\n",
    "df_plot_ecart_8 = df_plot_ecart[df_plot_ecart['month'] == 8]\n",
    "df_plot_ecart_9 = df_plot_ecart[df_plot_ecart['month'] == 9]\n",
    "df_plot_ecart_10 = df_plot_ecart[df_plot_ecart['month'] == 10]\n",
    "df_plot_ecart_11 = df_plot_ecart[df_plot_ecart['month'] == 11]\n",
    "df_plot_ecart_12 = df_plot_ecart[df_plot_ecart['month'] == 12]\n",
    "\n",
    "fig = make_subplots(rows=2, cols=3)\n",
    "fig.add_trace(go.Line(x=df_plot_ecart_8['day'], y=df_plot_ecart_8['ecart_horaire_en_secondes'], name = \"Août\"), row=1, col=1)\n",
    "fig.add_trace(go.Line(x=df_plot_ecart_9['day'], y=df_plot_ecart_9['ecart_horaire_en_secondes'], name = \"Septembre\"), row=1, col=2)\n",
    "fig.add_trace(go.Line(x=df_plot_ecart_10['day'], y=df_plot_ecart_10['ecart_horaire_en_secondes'], name = \"Octobre\"), row=1, col=3)\n",
    "fig.add_trace(go.Line(x=df_plot_ecart_11['day'], y=df_plot_ecart_11['ecart_horaire_en_secondes'], name = \"Novembre\"), row=2, col=1)\n",
    "fig.add_trace(go.Line(x=df_plot_ecart_12['day'], y=df_plot_ecart_12['ecart_horaire_en_secondes'], name = \"Décembre\"), row=2, col=2)\n",
    "fig.update_layout(yaxis_range=[0, 2500000])\n",
    "fig.show()"
   ]
  },
  {
   "cell_type": "code",
   "execution_count": null,
   "metadata": {},
   "outputs": [],
   "source": [
    "fig = px.bar(df_plot_ecart, \n",
    "            x='day',\n",
    "            y='ecart_horaire_en_secondes',\n",
    "            animation_frame=\"month\",\n",
    "            range_y=[0,2500000],\n",
    "            )\n",
    "fig.show()"
   ]
  },
  {
   "cell_type": "code",
   "execution_count": null,
   "metadata": {},
   "outputs": [],
   "source": [
    "df_heatmap_ecart = df[['month', 'day', 'ecart_horaire_en_secondes']]\n",
    "df_heatmap_ecart = df_heatmap_ecart.groupby(['month', 'day']).sum().reset_index()\n",
    "df_heatmap_ecart = df_heatmap_ecart.pivot(\"month\", \"day\", \"ecart_horaire_en_secondes\")\n",
    "df_heatmap_ecart = df_heatmap_ecart.fillna(0)\n",
    "df_heatmap_ecart.index = [\"Août\", \"Septembre\", \"Octobre\", \"Novembre\", \"Décembre\"]\n",
    "\n",
    "px.imshow(df_heatmap_ecart, labels=dict(x=\"Jour\", y=\"Mois\", color=\"Ecart en seconde\", height=1000, width=500, aspect=\"auto\"))"
   ]
  },
  {
   "cell_type": "code",
   "execution_count": null,
   "metadata": {},
   "outputs": [],
   "source": []
  },
  {
   "attachments": {},
   "cell_type": "markdown",
   "metadata": {},
   "source": [
    "### Analyse des différents modèles de véhicules"
   ]
  },
  {
   "cell_type": "code",
   "execution_count": null,
   "metadata": {},
   "outputs": [],
   "source": [
    "# repartition identifiant et modele du vehicule\n",
    "df_plot_vehicule_repartition = df[['identifiant_du_vehicule', 'modele_du_vehicule']].drop_duplicates()\n",
    "df_plot_vehicule_repartition[\"count\"] = 1\n",
    "df_plot_vehicule_repartition = df_plot_vehicule_repartition.groupby(['modele_du_vehicule']).sum().reset_index().drop(columns=[\"identifiant_du_vehicule\"])\n",
    "\n",
    "fig = px.bar(df_plot_vehicule_repartition, \n",
    "            x='modele_du_vehicule', \n",
    "            y='count', \n",
    "            title=\"Répartition des différents modèles de véhicules\",\n",
    "            color='count')\n",
    "fig.show()"
   ]
  },
  {
   "attachments": {},
   "cell_type": "markdown",
   "metadata": {},
   "source": [
    "### Analyse de l'état des véhicules "
   ]
  },
  {
   "attachments": {},
   "cell_type": "markdown",
   "metadata": {},
   "source": [
    "> 'HLP', course en Haut le pied (course sans client, entre dépôt et terminus)\n",
    "> 'TARR', Terminus arrivée\n",
    "> 'TDEP' Terminus Départ\n",
    "> 'LIGN' En ligne commerciale"
   ]
  },
  {
   "cell_type": "code",
   "execution_count": null,
   "metadata": {},
   "outputs": [],
   "source": [
    "df_plot_vehicule_etat = df[['identifiant_du_vehicule', 'etat_SAE_du_vehicule', 'month', 'day']].drop_duplicates()\n",
    "df_plot_vehicule_etat[\"count\"] = 1\n",
    "df_plot_vehicule_etat = df_plot_vehicule_etat.groupby(['month', 'day', 'etat_SAE_du_vehicule']).sum().reset_index().drop(columns=[\"identifiant_du_vehicule\"])\n",
    "#display(df_plot_vehicule_etat)\n",
    "\n",
    "fig = px.bar(df_plot_vehicule_etat, x='day', y='count', animation_frame=\"month\", color='etat_SAE_du_vehicule')\n",
    "fig.show()"
   ]
  },
  {
   "cell_type": "code",
   "execution_count": null,
   "metadata": {},
   "outputs": [],
   "source": []
  },
  {
   "attachments": {},
   "cell_type": "markdown",
   "metadata": {},
   "source": [
    "### Analyse des différentes lignes de bus / tram "
   ]
  },
  {
   "cell_type": "code",
   "execution_count": null,
   "metadata": {},
   "outputs": [],
   "source": [
    "\n"
   ]
  },
  {
   "cell_type": "code",
   "execution_count": null,
   "metadata": {},
   "outputs": [],
   "source": [
    "# nombre de bus moyen par lignes\n",
    "df_plot_bus_par_ligne = df[['date', 'month', 'identifiant_du_vehicule', 'mnemo_de_la_ligne']].drop_duplicates()\n",
    "df_plot_bus_par_ligne[\"count\"] = 1\n",
    "df_plot_bus_par_ligne = df_plot_bus_par_ligne.groupby(['date', 'month', 'mnemo_de_la_ligne']).sum().reset_index().drop(columns=[\"identifiant_du_vehicule\"])\n",
    "display(df_plot_bus_par_ligne)\n",
    "\n",
    "# moyenne par mnemo_de_la_ligne\n",
    "df_plot_bus_par_ligne_moyenne = df_plot_bus_par_ligne.groupby(['mnemo_de_la_ligne']).mean().round(0).reset_index().drop(columns=[\"month\"])\n",
    "#display(df_plot_bus_par_ligne_moyenne)\n",
    "\n",
    "# moyenne de mnemo_de_la_ligne par mois\n",
    "df_plot_bus_par_ligne_moyenne_par_mois = df_plot_bus_par_ligne.groupby(['month', 'mnemo_de_la_ligne']).mean().round(0).reset_index()\n",
    "#display(df_plot_bus_par_ligne_moyenne_par_mois.sort_values(by=[\"month\",\"mnemo_de_la_ligne\"]))\n"
   ]
  },
  {
   "cell_type": "code",
   "execution_count": null,
   "metadata": {},
   "outputs": [],
   "source": [
    "list_unique_mnemo_de_la_ligne = df_plot_bus_par_ligne.mnemo_de_la_ligne.unique().tolist()\n",
    "\n",
    "button_list = []\n",
    "for items in list_unique_mnemo_de_la_ligne:\n",
    "    button_list.append(dict(label=items,\n",
    "                            method=\"update\",\n",
    "                            args=[{\"visible\": [items in l for l in df_plot_bus_par_ligne[\"mnemo_de_la_ligne\"]]},\n",
    "                                  {\"title\": \"Nombre de bus moyen par lignes : {}\".format(items)}]))\n",
    "\n",
    "# plotly drowpdown from list_unique_mnemo_de_la_ligne\n",
    "fig = px.line(df_plot_bus_par_ligne, x=\"date\", y=\"count\", color='mnemo_de_la_ligne', title=\"Nombre de bus moyen par lignes\")\n",
    "fig.update_layout(\n",
    "    updatemenus=[\n",
    "        go.layout.Updatemenu(\n",
    "            buttons = button_list,\n",
    "            direction = \"down\",\n",
    "            pad={\"r\": 10, \"t\": 10},\n",
    "            showactive = True\n",
    "        )\n",
    "    ]\n",
    ")\n",
    "fig.show()\n"
   ]
  },
  {
   "cell_type": "code",
   "execution_count": null,
   "metadata": {},
   "outputs": [],
   "source": [
    "# ecart horaire par ligne\n",
    "df_plot_ecart_horaire_par_ligne = df[['date_heure', 'month', 'identifiant_du_vehicule', 'mnemo_de_la_ligne', 'ecart_horaire_en_secondes']]\n",
    "display(df_plot_ecart_horaire_par_ligne)\n"
   ]
  },
  {
   "cell_type": "code",
   "execution_count": null,
   "metadata": {},
   "outputs": [],
   "source": [
    "df_plot_ecart_horaire_par_ligne_all = df_plot_ecart_horaire_par_ligne\n",
    "df_plot_ecart_horaire_par_ligne_all[\"count\"] = 1\n",
    "df_plot_ecart_horaire_par_ligne_all = df_plot_ecart_horaire_par_ligne_all.groupby(['mnemo_de_la_ligne']).sum().reset_index().drop(columns=['month','identifiant_du_vehicule'])\n",
    "df_plot_ecart_horaire_par_ligne_all[\"moyenne_retard\"] = round(df_plot_ecart_horaire_par_ligne_all[\"ecart_horaire_en_secondes\"] / df_plot_ecart_horaire_par_ligne_all[\"count\"],0)\n",
    "\n",
    "display(df_plot_ecart_horaire_par_ligne_all)\n",
    "\n",
    "# passage en minute\n",
    "# affichage globale\n",
    "\n",
    "# affichage heatmap en fct des mois / ligne\n",
    "\n",
    "\n"
   ]
  },
  {
   "cell_type": "code",
   "execution_count": null,
   "metadata": {},
   "outputs": [],
   "source": []
  },
  {
   "cell_type": "code",
   "execution_count": null,
   "metadata": {},
   "outputs": [],
   "source": []
  },
  {
   "cell_type": "code",
   "execution_count": null,
   "metadata": {},
   "outputs": [],
   "source": []
  },
  {
   "attachments": {},
   "cell_type": "markdown",
   "metadata": {},
   "source": [
    "### Implémentation géographique des différents bus / trams en fonction du temps "
   ]
  },
  {
   "cell_type": "code",
   "execution_count": null,
   "metadata": {},
   "outputs": [],
   "source": [
    "import folium\n",
    "from folium import plugins\n",
    "from folium.plugins import HeatMapWithTime\n",
    "from folium.plugins import HeatMap\n",
    "import datetime\n",
    "\n",
    "def generateBaseMap(default_location=[47.478419, -0.563166], default_zoom_start=11):\n",
    "    base_map = folium.Map(location=default_location, control_scale=True, zoom_start=14)\n",
    "    return base_map\n",
    "\n",
    "base_map = generateBaseMap()\n"
   ]
  },
  {
   "cell_type": "code",
   "execution_count": null,
   "metadata": {},
   "outputs": [],
   "source": [
    "df_map = df[['date_heure', 'latitude', 'longitude']]\n",
    "df_map[\"count\"] = 1\n",
    "df_map['count'] = df_map[['date_heure', 'latitude', 'longitude', 'count']].groupby(['latitude', 'longitude', 'date_heure']).transform('count')\n",
    "\n",
    "#df_map.head(10)"
   ]
  },
  {
   "cell_type": "code",
   "execution_count": null,
   "metadata": {},
   "outputs": [],
   "source": [
    "df_map['date_heure']= pd.to_datetime(df_map['date_heure'])\n",
    "temps_index = []\n",
    "for i in df_map['date_heure'].unique():\n",
    "    temps_index.append(i)\n",
    "date_labels = [pd.to_datetime(str(d)).strftime('%d/%m/%Y, %H') for d in temps_index]\n",
    "\n",
    "date_labels = [x for _,x in sorted(zip(temps_index,date_labels))]\n",
    "date_labels\n",
    "\n",
    "\n",
    "lat_long_list = []\n",
    "for i in df_map['date_heure'].unique():\n",
    "    temp=[]\n",
    "    for index, instance in df_map[df_map['date_heure'] == i].iterrows():\n",
    "        temp.append([instance['latitude'],instance['longitude']])\n",
    "    lat_long_list.append(temp)"
   ]
  },
  {
   "cell_type": "code",
   "execution_count": null,
   "metadata": {},
   "outputs": [],
   "source": [
    "base_map = generateBaseMap()\n",
    "\n",
    "#cluster = plugins.MarkerCluster().add_to(base_map)\n",
    "\n",
    "#HeatMap(data=df_map[['latitude', 'longitude', 'count']].groupby(['latitude', 'longitude']).sum().reset_index().values.tolist(), radius=8, max_zoom=13).add_to(base_map)\n",
    "\n",
    "HeatMapWithTime(lat_long_list,radius=5,auto_play=True,position='bottomright',name=\"cluster\", index=date_labels, max_opacity=0.9).add_to(base_map)\n",
    "\n",
    "\n",
    "base_map"
   ]
  },
  {
   "cell_type": "code",
   "execution_count": null,
   "metadata": {},
   "outputs": [],
   "source": []
  }
 ],
 "metadata": {
  "kernelspec": {
   "display_name": "Python 3.10.1 64-bit",
   "language": "python",
   "name": "python3"
  },
  "language_info": {
   "codemirror_mode": {
    "name": "ipython",
    "version": 3
   },
   "file_extension": ".py",
   "mimetype": "text/x-python",
   "name": "python",
   "nbconvert_exporter": "python",
   "pygments_lexer": "ipython3",
   "version": "3.10.1 (tags/v3.10.1:2cd268a, Dec  6 2021, 19:10:37) [MSC v.1929 64 bit (AMD64)]"
  },
  "orig_nbformat": 4,
  "vscode": {
   "interpreter": {
    "hash": "3784964760983b700e8335d64d8c6eaf813e882d3cf5a6fc0b20aa08d03d021a"
   }
  }
 },
 "nbformat": 4,
 "nbformat_minor": 2
}
